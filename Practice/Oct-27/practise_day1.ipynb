{
 "cells": [
  {
   "cell_type": "markdown",
   "id": "76dec295",
   "metadata": {},
   "source": [
    "Introduction to Pandas"
   ]
  },
  {
   "cell_type": "code",
   "execution_count": 3,
   "id": "5d73cfd3",
   "metadata": {},
   "outputs": [
    {
     "name": "stdout",
     "output_type": "stream",
     "text": [
      "3\n",
      "2\n"
     ]
    }
   ],
   "source": [
    "import pandas as pd\n",
    "\n",
    "# Creating a Pandas Series from a list\n",
    "data = [1, 2, 3, 4, 5]\n",
    "series = pd.Series(data)\n",
    "\n",
    "# Creating a Pandas Series with a specified index\n",
    "index = ['a', 'b', 'c', 'd', 'e']\n",
    "series_with_index = pd.Series(data, index=index)\n",
    "\n",
    "# Creating a Pandas Series from a dictionary\n",
    "data_dict = {'a': 1, 'b': 2, 'c': 3, 'd': 4, 'e': 5}\n",
    "series_from_dict = pd.Series(data_dict)\n",
    "\n",
    "# Accessing data in a Series\n",
    "print(series[2])  # Accessing element at index 2\n",
    "print(series_with_index['b'])  # Accessing element with index 'b'"
   ]
  },
  {
   "cell_type": "code",
   "execution_count": 6,
   "id": "d12ab523",
   "metadata": {},
   "outputs": [
    {
     "name": "stdout",
     "output_type": "stream",
     "text": [
      "      Name  Age  Salary\n",
      "0    Alice   25   50000\n",
      "1      Bob   30   60000\n",
      "2  Charlie   22   45000\n",
      "      Name  Age  Salary\n",
      "0    Alice   25   50000\n",
      "1      Bob   30   60000\n",
      "2  Charlie   22   45000\n",
      "      Name Age Salary\n",
      "0    Alice  25  50000\n",
      "1      Bob  30  60000\n",
      "2  Charlie  22  45000\n",
      "                date         price  bedrooms  bathrooms  sqft_living  \\\n",
      "0      5/2/2014 0:00  3.130000e+05       NaN       1.50         1340   \n",
      "1      5/2/2014 0:00  2.384000e+06       NaN       2.50         3650   \n",
      "2      5/2/2014 0:00  3.420000e+05       NaN       2.00         1930   \n",
      "3      5/2/2014 0:00  4.200000e+05       NaN       2.25         2000   \n",
      "4      5/2/2014 0:00  5.500000e+05       4.0       2.50         1940   \n",
      "...              ...           ...       ...        ...          ...   \n",
      "4595   7/9/2014 0:00  3.081667e+05       3.0       1.75         1510   \n",
      "4596   7/9/2014 0:00  5.343333e+05       3.0       2.50         1460   \n",
      "4597   7/9/2014 0:00  4.169042e+05       3.0       2.50         3010   \n",
      "4598  7/10/2014 0:00  2.034000e+05       4.0       2.00         2090   \n",
      "4599  7/10/2014 0:00  2.206000e+05       3.0       2.50         1490   \n",
      "\n",
      "      sqft_lot  floors  waterfront  view  condition  sqft_above  \\\n",
      "0         7912     1.5           0     0          3        1340   \n",
      "1         9050     2.0           0     4          5        3370   \n",
      "2        11947     1.0           0     0          4        1930   \n",
      "3         8030     1.0           0     0          4        1000   \n",
      "4        10500     1.0           0     0          4        1140   \n",
      "...        ...     ...         ...   ...        ...         ...   \n",
      "4595      6360     1.0           0     0          4        1510   \n",
      "4596      7573     2.0           0     0          3        1460   \n",
      "4597      7014     2.0           0     0          3        3010   \n",
      "4598      6630     1.0           0     0          3        1070   \n",
      "4599      8102     2.0           0     0          4        1490   \n",
      "\n",
      "      sqft_basement  yr_built  yr_renovated                    street  \\\n",
      "0                 0      1955          2005      18810 Densmore Ave N   \n",
      "1               280      1921             0           709 W Blaine St   \n",
      "2                 0      1966             0  26206-26214 143rd Ave SE   \n",
      "3              1000      1963             0           857 170th Pl NE   \n",
      "4               800      1976          1992         9105 170th Ave NE   \n",
      "...             ...       ...           ...                       ...   \n",
      "4595              0      1954          1979            501 N 143rd St   \n",
      "4596              0      1983          2009          14855 SE 10th Pl   \n",
      "4597              0      2009             0          759 Ilwaco Pl NE   \n",
      "4598           1020      1974             0         5148 S Creston St   \n",
      "4599              0      1990             0         18717 SE 258th St   \n",
      "\n",
      "           city  statezip country  \n",
      "0     Shoreline  WA 98133     USA  \n",
      "1       Seattle  WA 98119     USA  \n",
      "2          Kent  WA 98042     USA  \n",
      "3      Bellevue  WA 98008     USA  \n",
      "4       Redmond  WA 98052     USA  \n",
      "...         ...       ...     ...  \n",
      "4595    Seattle  WA 98133     USA  \n",
      "4596   Bellevue  WA 98007     USA  \n",
      "4597     Renton  WA 98059     USA  \n",
      "4598    Seattle  WA 98178     USA  \n",
      "4599  Covington  WA 98042     USA  \n",
      "\n",
      "[4600 rows x 18 columns]\n"
     ]
    }
   ],
   "source": [
    "import pandas as pd\n",
    "\n",
    "# Creating a DataFrame from a dictionary\n",
    "data_dict = {'Name': ['Alice', 'Bob', 'Charlie'],\n",
    "             'Age': [25, 30, 22],\n",
    "             'Salary': [50000, 60000, 45000]}\n",
    "\n",
    "df_dict = pd.DataFrame(data_dict)\n",
    "print(df_dict)\n",
    "\n",
    "# Creating a DataFrame from lists\n",
    "data_list = [['Alice', 25, 50000], ['Bob', 30, 60000], ['Charlie', 22, 45000]]\n",
    "\n",
    "# Defining column names\n",
    "columns = ['Name', 'Age', 'Salary']\n",
    "\n",
    "df_list = pd.DataFrame(data_list, columns=columns)\n",
    "print(df_list)\n",
    "\n",
    "# Creating a DataFrame from a NumPy array\n",
    "import numpy as np\n",
    "data_array = np.array([['Alice', 25, 50000],\n",
    "                       ['Bob', 30, 60000],\n",
    "                       ['Charlie', 22, 45000]])\n",
    "\n",
    "df_array = pd.DataFrame(data_array, columns=columns)\n",
    "print(df_array)\n",
    "\n",
    "# Creating a DataFrame from a CSV file\n",
    "df_csv = pd.read_csv('HousePrices.csv')\n",
    "print(df_csv)\n",
    "\n",
    "# Creating a DataFrame from an Excel file\n",
    "#df_excel = pd.read_excel('Iris.csv')\n",
    "#print(df_excel)"
   ]
  }
 ],
 "metadata": {
  "kernelspec": {
   "display_name": "Python 3",
   "language": "python",
   "name": "python3"
  },
  "language_info": {
   "codemirror_mode": {
    "name": "ipython",
    "version": 3
   },
   "file_extension": ".py",
   "mimetype": "text/x-python",
   "name": "python",
   "nbconvert_exporter": "python",
   "pygments_lexer": "ipython3",
   "version": "3.12.2"
  }
 },
 "nbformat": 4,
 "nbformat_minor": 5
}
